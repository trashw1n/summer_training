{
 "cells": [
  {
   "cell_type": "code",
   "execution_count": 1,
   "metadata": {},
   "outputs": [],
   "source": [
    "import mne\n",
    "import numpy as np\n",
    "import pandas as pd\n",
    "import autoreject\n",
    "import os\n"
   ]
  },
  {
   "cell_type": "code",
   "execution_count": 2,
   "metadata": {},
   "outputs": [],
   "source": [
    "def clean_montage(montage_path):\n",
    "    '''\n",
    "    This function takes a path to a montage file and returns a montage object\n",
    "    rescales the montage coordinates and takes care of any NaNs or missing channels\n",
    "    '''\n",
    "    montage_data = pd.read_csv(montage_path, sep = '\\s+|\\t+', header=0, engine='python')\n",
    "    montage_data = montage_data.set_index('name', drop=True)\n",
    "    montage_data.loc['Resp'] = [0,0,0]\n",
    "    montage_data.replace(np.nan, 0, inplace=True)\n",
    "    #montage_data.dropna(inplace=True)\n",
    "    scale = 0.095  #scale based on head radius (value of 1 means equal to head radius)\n",
    "    montage_data.loc[:, ['x','y','z']] *= scale #rescale coordinates\n",
    "    mapping = montage_data.T.to_dict('list') #create a mapping from channel name to coordinates\n",
    "    montage = mne.channels.make_dig_montage(ch_pos=mapping,coord_frame='head') #prepare montage from mapping\n",
    "    return montage\n"
   ]
  },
  {
   "cell_type": "code",
   "execution_count": 7,
   "metadata": {},
   "outputs": [],
   "source": [
    "def preprocess(raw_data_path, montage_path):\n",
    "    '''\n",
    "    utility function\n",
    "    raw_data_path: path to subject's folder containing raw data\n",
    "    montage_path: path to subject's folder containing montage data\n",
    "    '''\n",
    "    rd= mne.io.read_raw_eeglab(raw_data_path, preload=True,verbose=False) #load data\n",
    "    acti_cap_mon=clean_montage(montage_path) #load montage\n",
    "    rd.set_montage(acti_cap_mon, on_missing='ignore') #set montage\n",
    "    #raw_plot=rd.plot()\n",
    "    chans_to_remove = ['FT9','FT10','TP9','TP10']\n",
    "    rd.drop_channels([chan for chan in chans_to_remove if chan in rd.ch_names]) #remove unreliable channels\n",
    "    rd.drop_channels([chan for chan in rd.ch_names if chan not in acti_cap_mon.ch_names]) #remove channels not in montage\n",
    "    rd.set_eeg_reference(ref_channels='average') #rereference to average\n",
    "    new_sampling_freq = 256 #new sampling frequency\n",
    "    rd.resample(new_sampling_freq)  #resample\n",
    "\n",
    "    rd= rd.copy().filter(l_freq=0.1, h_freq=None) #highpass filter\n",
    "\n",
    "    events,event_dict = mne.events_from_annotations(rd)  #{'S  1': 1, 'S  2': 2, 'S  3': 3, 'boundary': 4}\n",
    "    epochs= mne.Epochs(rd, events, tmin=-1, tmax=2.5, event_id=event_dict, preload=True) #epoching\n",
    "\n",
    "    epochs.info['bads'] = ['Cz'] #exlude Cz channel from ICA\n",
    "    ica = mne.preprocessing.ICA(n_components=15, random_state=50, max_iter=800) #perform ICA\n",
    "    ica.fit(epochs)  #fit ICA\n",
    "    ica.apply(epochs) #apply ICA\n",
    "    #after_ica=rd.plot()\n",
    "    \n",
    "    del rd #delete raw data to save memory; we only need epochs now\n",
    "   \n",
    "    ar= autoreject.AutoReject(n_interpolate=[1,2,3,4],random_state=11,n_jobs=1,verbose=True) #perform autoreject to remove bad epochs\n",
    "    ar.fit(epochs[:10])\n",
    "    epochs_arr, reject_log = ar.transform(epochs, return_log=True)\n",
    "    epochs_arr.interpolate_bads() #interpolate bad channels exlcuding Cz\n",
    "    try:\n",
    "        epochs_arr.info['bads'].remove('Cz') #remove Cz channel from bad channels\n",
    "    except:\n",
    "        pass\n",
    "\n",
    "    return epochs_arr"
   ]
  },
  {
   "cell_type": "code",
   "execution_count": 4,
   "metadata": {},
   "outputs": [],
   "source": [
    "def get_subject_folders(eeg_path):\n",
    "    '''\n",
    "    utility function\n",
    "    Returns a list of all subject folders in the given path\n",
    "    '''\n",
    "    folders = []\n",
    "    for root, dirs, _ in os.walk(eeg_path):\n",
    "        folders.extend([os.path.join(root, d) for d in dirs]) \n",
    "        break # only top level subfolders required \n",
    "    return folders"
   ]
  },
  {
   "cell_type": "code",
   "execution_count": 5,
   "metadata": {},
   "outputs": [],
   "source": [
    "def batch_preprocess(input_data_path,output_data_path):\n",
    "    '''\n",
    "    input_data_path: path to the folder containing the subject folders.\n",
    "    output_data_path: path to the folder where the preprocessed data will be saved.\n",
    "    '''\n",
    "    if not os.path.exists(output_data_path):\n",
    "        os.makedirs(output_data_path)\n",
    "    \n",
    "    subjects = get_subject_folders(input_data_path)\n",
    "\n",
    "    for subject in subjects:\n",
    "        print(\"\\npreproccessing subject: \" + subject + \"...\")\n",
    "        montage_path = os.path.join(subject,'eeg',subject[-7:]+'_task-Oddball_electrodes.tsv')\n",
    "        out = preprocess(os.path.join(subject,'eeg',subject[-7:]+'_task-Oddball_eeg.set'),montage_path)\n",
    "        out_path = os.path.join(output_data_path, subject[-7:])\n",
    "        os.makedirs(out_path)\n",
    "        out.save(os.path.join(out_path, subject[-7:] + \"-epo.fif\"))\n",
    "        del out\n",
    "        print(\"preproccessed subject: \" + subject + \"!\\n\")\n"
   ]
  },
  {
   "cell_type": "code",
   "execution_count": null,
   "metadata": {},
   "outputs": [],
   "source": []
  }
 ],
 "metadata": {
  "kernelspec": {
   "display_name": "Python 3",
   "language": "python",
   "name": "python3"
  },
  "language_info": {
   "codemirror_mode": {
    "name": "ipython",
    "version": 3
   },
   "file_extension": ".py",
   "mimetype": "text/x-python",
   "name": "python",
   "nbconvert_exporter": "python",
   "pygments_lexer": "ipython3",
   "version": "3.11.0"
  },
  "orig_nbformat": 4
 },
 "nbformat": 4,
 "nbformat_minor": 2
}
